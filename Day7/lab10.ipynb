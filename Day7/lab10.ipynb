{
 "cells": [
  {
   "cell_type": "markdown",
   "metadata": {},
   "source": [
    "# **T&T LAB ASSIGNMENT 10**  \n",
    "**Name: Shidhu Bhadra  \n",
    "Roll: 1905348  \n",
    "Date: 09/03/2022**"
   ]
  },
  {
   "cell_type": "code",
   "execution_count": 1,
   "metadata": {},
   "outputs": [],
   "source": [
    "import matplotlib.pyplot as plt\n",
    "from sklearn.model_selection import train_test_split\n",
    "from sklearn import preprocessing\n",
    "import seaborn as sns\n",
    "import pandas as pd\n",
    "import numpy as np\n",
    "\n",
    "from sklearn.svm import SVC\n",
    "from sklearn.ensemble import GradientBoostingClassifier\n",
    "from sklearn.ensemble import AdaBoostClassifier\n",
    "\n",
    "from sklearn.metrics import confusion_matrix\n",
    "from sklearn.metrics import accuracy_score\n",
    "from sklearn.metrics import recall_score\n",
    "from sklearn.metrics import precision_score\n",
    "from sklearn.metrics import f1_score"
   ]
  },
  {
   "cell_type": "markdown",
   "metadata": {},
   "source": [
    "## **1. On ‘Income dataset’**"
   ]
  },
  {
   "cell_type": "code",
   "execution_count": 2,
   "metadata": {},
   "outputs": [],
   "source": [
    "df_main = pd.read_csv(\"income.csv\")"
   ]
  },
  {
   "cell_type": "code",
   "execution_count": 3,
   "metadata": {},
   "outputs": [
    {
     "data": {
      "text/html": [
       "<div>\n",
       "<style scoped>\n",
       "    .dataframe tbody tr th:only-of-type {\n",
       "        vertical-align: middle;\n",
       "    }\n",
       "\n",
       "    .dataframe tbody tr th {\n",
       "        vertical-align: top;\n",
       "    }\n",
       "\n",
       "    .dataframe thead th {\n",
       "        text-align: right;\n",
       "    }\n",
       "</style>\n",
       "<table border=\"1\" class=\"dataframe\">\n",
       "  <thead>\n",
       "    <tr style=\"text-align: right;\">\n",
       "      <th></th>\n",
       "      <th>age</th>\n",
       "      <th>JobType</th>\n",
       "      <th>EdType</th>\n",
       "      <th>maritalstatus</th>\n",
       "      <th>occupation</th>\n",
       "      <th>relationship</th>\n",
       "      <th>race</th>\n",
       "      <th>gender</th>\n",
       "      <th>capitalgain</th>\n",
       "      <th>capitalloss</th>\n",
       "      <th>hoursperweek</th>\n",
       "      <th>nativecountry</th>\n",
       "      <th>SalStat</th>\n",
       "    </tr>\n",
       "  </thead>\n",
       "  <tbody>\n",
       "    <tr>\n",
       "      <th>0</th>\n",
       "      <td>45</td>\n",
       "      <td>Private</td>\n",
       "      <td>HS-grad</td>\n",
       "      <td>Divorced</td>\n",
       "      <td>Adm-clerical</td>\n",
       "      <td>Not-in-family</td>\n",
       "      <td>White</td>\n",
       "      <td>Female</td>\n",
       "      <td>0</td>\n",
       "      <td>0</td>\n",
       "      <td>28</td>\n",
       "      <td>United-States</td>\n",
       "      <td>less than or equal to 50,000</td>\n",
       "    </tr>\n",
       "    <tr>\n",
       "      <th>1</th>\n",
       "      <td>24</td>\n",
       "      <td>Federal-gov</td>\n",
       "      <td>HS-grad</td>\n",
       "      <td>Never-married</td>\n",
       "      <td>Armed-Forces</td>\n",
       "      <td>Own-child</td>\n",
       "      <td>White</td>\n",
       "      <td>Male</td>\n",
       "      <td>0</td>\n",
       "      <td>0</td>\n",
       "      <td>40</td>\n",
       "      <td>United-States</td>\n",
       "      <td>less than or equal to 50,000</td>\n",
       "    </tr>\n",
       "    <tr>\n",
       "      <th>2</th>\n",
       "      <td>44</td>\n",
       "      <td>Private</td>\n",
       "      <td>Some-college</td>\n",
       "      <td>Married-civ-spouse</td>\n",
       "      <td>Prof-specialty</td>\n",
       "      <td>Husband</td>\n",
       "      <td>White</td>\n",
       "      <td>Male</td>\n",
       "      <td>0</td>\n",
       "      <td>0</td>\n",
       "      <td>40</td>\n",
       "      <td>United-States</td>\n",
       "      <td>greater than 50,000</td>\n",
       "    </tr>\n",
       "    <tr>\n",
       "      <th>3</th>\n",
       "      <td>27</td>\n",
       "      <td>Private</td>\n",
       "      <td>9th</td>\n",
       "      <td>Never-married</td>\n",
       "      <td>Craft-repair</td>\n",
       "      <td>Other-relative</td>\n",
       "      <td>White</td>\n",
       "      <td>Male</td>\n",
       "      <td>0</td>\n",
       "      <td>0</td>\n",
       "      <td>40</td>\n",
       "      <td>Mexico</td>\n",
       "      <td>less than or equal to 50,000</td>\n",
       "    </tr>\n",
       "    <tr>\n",
       "      <th>4</th>\n",
       "      <td>20</td>\n",
       "      <td>Private</td>\n",
       "      <td>Some-college</td>\n",
       "      <td>Never-married</td>\n",
       "      <td>Sales</td>\n",
       "      <td>Not-in-family</td>\n",
       "      <td>White</td>\n",
       "      <td>Male</td>\n",
       "      <td>0</td>\n",
       "      <td>0</td>\n",
       "      <td>35</td>\n",
       "      <td>United-States</td>\n",
       "      <td>less than or equal to 50,000</td>\n",
       "    </tr>\n",
       "  </tbody>\n",
       "</table>\n",
       "</div>"
      ],
      "text/plain": [
       "   age      JobType        EdType       maritalstatus      occupation  \\\n",
       "0   45      Private       HS-grad            Divorced    Adm-clerical   \n",
       "1   24  Federal-gov       HS-grad       Never-married    Armed-Forces   \n",
       "2   44      Private  Some-college  Married-civ-spouse  Prof-specialty   \n",
       "3   27      Private           9th       Never-married    Craft-repair   \n",
       "4   20      Private  Some-college       Never-married           Sales   \n",
       "\n",
       "     relationship   race  gender  capitalgain  capitalloss  hoursperweek  \\\n",
       "0   Not-in-family  White  Female            0            0            28   \n",
       "1       Own-child  White    Male            0            0            40   \n",
       "2         Husband  White    Male            0            0            40   \n",
       "3  Other-relative  White    Male            0            0            40   \n",
       "4   Not-in-family  White    Male            0            0            35   \n",
       "\n",
       "   nativecountry                        SalStat  \n",
       "0  United-States   less than or equal to 50,000  \n",
       "1  United-States   less than or equal to 50,000  \n",
       "2  United-States            greater than 50,000  \n",
       "3         Mexico   less than or equal to 50,000  \n",
       "4  United-States   less than or equal to 50,000  "
      ]
     },
     "execution_count": 3,
     "metadata": {},
     "output_type": "execute_result"
    }
   ],
   "source": [
    "df_main.head()"
   ]
  },
  {
   "cell_type": "code",
   "execution_count": 4,
   "metadata": {},
   "outputs": [],
   "source": [
    "df = df_main.copy()"
   ]
  },
  {
   "cell_type": "code",
   "execution_count": 5,
   "metadata": {},
   "outputs": [
    {
     "data": {
      "text/plain": [
       "age              0.0\n",
       "JobType          0.0\n",
       "EdType           0.0\n",
       "maritalstatus    0.0\n",
       "occupation       0.0\n",
       "relationship     0.0\n",
       "race             0.0\n",
       "gender           0.0\n",
       "capitalgain      0.0\n",
       "capitalloss      0.0\n",
       "hoursperweek     0.0\n",
       "nativecountry    0.0\n",
       "SalStat          0.0\n",
       "dtype: float64"
      ]
     },
     "execution_count": 5,
     "metadata": {},
     "output_type": "execute_result"
    }
   ],
   "source": [
    "df.isnull().mean().round(5).mul(100).sort_values(ascending=False)"
   ]
  },
  {
   "cell_type": "code",
   "execution_count": 6,
   "metadata": {},
   "outputs": [],
   "source": [
    "df.drop(columns=['relationship','capitalgain', 'capitalloss'], inplace=True)"
   ]
  },
  {
   "cell_type": "code",
   "execution_count": 7,
   "metadata": {},
   "outputs": [
    {
     "data": {
      "text/html": [
       "<div>\n",
       "<style scoped>\n",
       "    .dataframe tbody tr th:only-of-type {\n",
       "        vertical-align: middle;\n",
       "    }\n",
       "\n",
       "    .dataframe tbody tr th {\n",
       "        vertical-align: top;\n",
       "    }\n",
       "\n",
       "    .dataframe thead th {\n",
       "        text-align: right;\n",
       "    }\n",
       "</style>\n",
       "<table border=\"1\" class=\"dataframe\">\n",
       "  <thead>\n",
       "    <tr style=\"text-align: right;\">\n",
       "      <th></th>\n",
       "      <th>age</th>\n",
       "      <th>JobType</th>\n",
       "      <th>EdType</th>\n",
       "      <th>maritalstatus</th>\n",
       "      <th>occupation</th>\n",
       "      <th>race</th>\n",
       "      <th>gender</th>\n",
       "      <th>hoursperweek</th>\n",
       "      <th>nativecountry</th>\n",
       "      <th>SalStat</th>\n",
       "    </tr>\n",
       "  </thead>\n",
       "  <tbody>\n",
       "    <tr>\n",
       "      <th>0</th>\n",
       "      <td>45</td>\n",
       "      <td>Private</td>\n",
       "      <td>HS-grad</td>\n",
       "      <td>Divorced</td>\n",
       "      <td>Adm-clerical</td>\n",
       "      <td>White</td>\n",
       "      <td>Female</td>\n",
       "      <td>28</td>\n",
       "      <td>United-States</td>\n",
       "      <td>less than or equal to 50,000</td>\n",
       "    </tr>\n",
       "    <tr>\n",
       "      <th>1</th>\n",
       "      <td>24</td>\n",
       "      <td>Federal-gov</td>\n",
       "      <td>HS-grad</td>\n",
       "      <td>Never-married</td>\n",
       "      <td>Armed-Forces</td>\n",
       "      <td>White</td>\n",
       "      <td>Male</td>\n",
       "      <td>40</td>\n",
       "      <td>United-States</td>\n",
       "      <td>less than or equal to 50,000</td>\n",
       "    </tr>\n",
       "    <tr>\n",
       "      <th>2</th>\n",
       "      <td>44</td>\n",
       "      <td>Private</td>\n",
       "      <td>Some-college</td>\n",
       "      <td>Married-civ-spouse</td>\n",
       "      <td>Prof-specialty</td>\n",
       "      <td>White</td>\n",
       "      <td>Male</td>\n",
       "      <td>40</td>\n",
       "      <td>United-States</td>\n",
       "      <td>greater than 50,000</td>\n",
       "    </tr>\n",
       "    <tr>\n",
       "      <th>3</th>\n",
       "      <td>27</td>\n",
       "      <td>Private</td>\n",
       "      <td>9th</td>\n",
       "      <td>Never-married</td>\n",
       "      <td>Craft-repair</td>\n",
       "      <td>White</td>\n",
       "      <td>Male</td>\n",
       "      <td>40</td>\n",
       "      <td>Mexico</td>\n",
       "      <td>less than or equal to 50,000</td>\n",
       "    </tr>\n",
       "    <tr>\n",
       "      <th>4</th>\n",
       "      <td>20</td>\n",
       "      <td>Private</td>\n",
       "      <td>Some-college</td>\n",
       "      <td>Never-married</td>\n",
       "      <td>Sales</td>\n",
       "      <td>White</td>\n",
       "      <td>Male</td>\n",
       "      <td>35</td>\n",
       "      <td>United-States</td>\n",
       "      <td>less than or equal to 50,000</td>\n",
       "    </tr>\n",
       "  </tbody>\n",
       "</table>\n",
       "</div>"
      ],
      "text/plain": [
       "   age      JobType        EdType       maritalstatus      occupation   race  \\\n",
       "0   45      Private       HS-grad            Divorced    Adm-clerical  White   \n",
       "1   24  Federal-gov       HS-grad       Never-married    Armed-Forces  White   \n",
       "2   44      Private  Some-college  Married-civ-spouse  Prof-specialty  White   \n",
       "3   27      Private           9th       Never-married    Craft-repair  White   \n",
       "4   20      Private  Some-college       Never-married           Sales  White   \n",
       "\n",
       "   gender  hoursperweek  nativecountry                        SalStat  \n",
       "0  Female            28  United-States   less than or equal to 50,000  \n",
       "1    Male            40  United-States   less than or equal to 50,000  \n",
       "2    Male            40  United-States            greater than 50,000  \n",
       "3    Male            40         Mexico   less than or equal to 50,000  \n",
       "4    Male            35  United-States   less than or equal to 50,000  "
      ]
     },
     "execution_count": 7,
     "metadata": {},
     "output_type": "execute_result"
    }
   ],
   "source": [
    "df.head()"
   ]
  },
  {
   "cell_type": "code",
   "execution_count": 8,
   "metadata": {},
   "outputs": [],
   "source": [
    "cols = ['JobType', 'EdType', 'maritalstatus', 'occupation', 'race', \n",
    "        'gender', 'nativecountry', 'SalStat']\n",
    "\n",
    "for col in cols:\n",
    "    le = preprocessing.LabelEncoder()\n",
    "    df[col] = le.fit_transform(df[col])"
   ]
  },
  {
   "cell_type": "code",
   "execution_count": 9,
   "metadata": {},
   "outputs": [
    {
     "data": {
      "text/html": [
       "<div>\n",
       "<style scoped>\n",
       "    .dataframe tbody tr th:only-of-type {\n",
       "        vertical-align: middle;\n",
       "    }\n",
       "\n",
       "    .dataframe tbody tr th {\n",
       "        vertical-align: top;\n",
       "    }\n",
       "\n",
       "    .dataframe thead th {\n",
       "        text-align: right;\n",
       "    }\n",
       "</style>\n",
       "<table border=\"1\" class=\"dataframe\">\n",
       "  <thead>\n",
       "    <tr style=\"text-align: right;\">\n",
       "      <th></th>\n",
       "      <th>age</th>\n",
       "      <th>JobType</th>\n",
       "      <th>EdType</th>\n",
       "      <th>maritalstatus</th>\n",
       "      <th>occupation</th>\n",
       "      <th>race</th>\n",
       "      <th>gender</th>\n",
       "      <th>hoursperweek</th>\n",
       "      <th>nativecountry</th>\n",
       "      <th>SalStat</th>\n",
       "    </tr>\n",
       "  </thead>\n",
       "  <tbody>\n",
       "    <tr>\n",
       "      <th>0</th>\n",
       "      <td>45</td>\n",
       "      <td>4</td>\n",
       "      <td>11</td>\n",
       "      <td>0</td>\n",
       "      <td>1</td>\n",
       "      <td>4</td>\n",
       "      <td>0</td>\n",
       "      <td>28</td>\n",
       "      <td>38</td>\n",
       "      <td>1</td>\n",
       "    </tr>\n",
       "    <tr>\n",
       "      <th>1</th>\n",
       "      <td>24</td>\n",
       "      <td>1</td>\n",
       "      <td>11</td>\n",
       "      <td>4</td>\n",
       "      <td>2</td>\n",
       "      <td>4</td>\n",
       "      <td>1</td>\n",
       "      <td>40</td>\n",
       "      <td>38</td>\n",
       "      <td>1</td>\n",
       "    </tr>\n",
       "    <tr>\n",
       "      <th>2</th>\n",
       "      <td>44</td>\n",
       "      <td>4</td>\n",
       "      <td>15</td>\n",
       "      <td>2</td>\n",
       "      <td>10</td>\n",
       "      <td>4</td>\n",
       "      <td>1</td>\n",
       "      <td>40</td>\n",
       "      <td>38</td>\n",
       "      <td>0</td>\n",
       "    </tr>\n",
       "    <tr>\n",
       "      <th>3</th>\n",
       "      <td>27</td>\n",
       "      <td>4</td>\n",
       "      <td>6</td>\n",
       "      <td>4</td>\n",
       "      <td>3</td>\n",
       "      <td>4</td>\n",
       "      <td>1</td>\n",
       "      <td>40</td>\n",
       "      <td>25</td>\n",
       "      <td>1</td>\n",
       "    </tr>\n",
       "    <tr>\n",
       "      <th>4</th>\n",
       "      <td>20</td>\n",
       "      <td>4</td>\n",
       "      <td>15</td>\n",
       "      <td>4</td>\n",
       "      <td>12</td>\n",
       "      <td>4</td>\n",
       "      <td>1</td>\n",
       "      <td>35</td>\n",
       "      <td>38</td>\n",
       "      <td>1</td>\n",
       "    </tr>\n",
       "  </tbody>\n",
       "</table>\n",
       "</div>"
      ],
      "text/plain": [
       "   age  JobType  EdType  maritalstatus  occupation  race  gender  \\\n",
       "0   45        4      11              0           1     4       0   \n",
       "1   24        1      11              4           2     4       1   \n",
       "2   44        4      15              2          10     4       1   \n",
       "3   27        4       6              4           3     4       1   \n",
       "4   20        4      15              4          12     4       1   \n",
       "\n",
       "   hoursperweek  nativecountry  SalStat  \n",
       "0            28             38        1  \n",
       "1            40             38        1  \n",
       "2            40             38        0  \n",
       "3            40             25        1  \n",
       "4            35             38        1  "
      ]
     },
     "execution_count": 9,
     "metadata": {},
     "output_type": "execute_result"
    }
   ],
   "source": [
    "df.head()"
   ]
  },
  {
   "cell_type": "code",
   "execution_count": 10,
   "metadata": {},
   "outputs": [
    {
     "data": {
      "text/plain": [
       "1    24283\n",
       "0     7695\n",
       "Name: SalStat, dtype: int64"
      ]
     },
     "execution_count": 10,
     "metadata": {},
     "output_type": "execute_result"
    }
   ],
   "source": [
    "df.SalStat.value_counts()"
   ]
  },
  {
   "cell_type": "code",
   "execution_count": 11,
   "metadata": {},
   "outputs": [
    {
     "data": {
      "text/plain": [
       "((25582, 9), (25582,), (6396, 9), (6396,))"
      ]
     },
     "execution_count": 11,
     "metadata": {},
     "output_type": "execute_result"
    }
   ],
   "source": [
    "x_train, x_test, y_train, y_test = train_test_split(df.drop(columns = ['SalStat']), df['SalStat'], train_size = 0.8)\n",
    "x_train.shape, y_train.shape, x_test.shape, y_test.shape"
   ]
  },
  {
   "cell_type": "code",
   "execution_count": 12,
   "metadata": {},
   "outputs": [
    {
     "data": {
      "text/plain": [
       "<AxesSubplot:title={'center':'Pearson Correlation of Features'}>"
      ]
     },
     "execution_count": 12,
     "metadata": {},
     "output_type": "execute_result"
    },
    {
     "data": {
      "image/png": "[encoded data removed]",
      "text/plain": [
       "<Figure size 1008x864 with 2 Axes>"
      ]
     },
     "metadata": {
      "needs_background": "light"
     },
     "output_type": "display_data"
    }
   ],
   "source": [
    "colormap = plt.figure(figsize=(14,12))\n",
    "plt.title('Pearson Correlation of Features', y=1.05, size=20)\n",
    "sns.heatmap(x_train.merge(y_train , on = x_train.index ).corr(),linewidths=0.1,vmax=1.0, \n",
    "         square=True, cmap='gist_rainbow_r', linecolor='white', annot=True)"
   ]
  },
  {
   "cell_type": "code",
   "execution_count": 13,
   "metadata": {},
   "outputs": [],
   "source": [
    "algos = []\n",
    "accuracy = []\n",
    "recall = []\n",
    "precision = []\n",
    "f1Score = []"
   ]
  },
  {
   "cell_type": "markdown",
   "metadata": {},
   "source": [
    "## **A) Apply Support vector machine algorithm and find out the accuarcy in predicting whether the salary status is less than or equal to 5000 or it is greater than 50000.**\n",
    "\n",
    "i) **Confusion Matrix  \n",
    "i) Accuracy score  \n",
    "iii)recall, precision, f- score**"
   ]
  },
  {
   "cell_type": "code",
   "execution_count": 14,
   "metadata": {},
   "outputs": [
    {
     "name": "stdout",
     "output_type": "stream",
     "text": [
      "Support Vector Regressor\n",
      "[[   0 1556]\n",
      " [   0 4840]] \n",
      "\n",
      "\n",
      "Accuracy: 75.6722951844903\n",
      "Recall: 100.0\n",
      "Precision: 75.6722951844903\n",
      "F score: 86.15165539337842\n"
     ]
    }
   ],
   "source": [
    "SVReg = SVC()\n",
    "SVReg.fit(x_train, y_train)\n",
    "y_pred = SVReg.predict(x_test)\n",
    "\n",
    "print(\"Support Vector Regressor\")\n",
    "print(confusion_matrix(y_test, y_pred), '\\n\\n')\n",
    "accLogReg = accuracy_score(y_test, y_pred) * 100\n",
    "recLogReg = recall_score(y_test, y_pred) * 100\n",
    "preLogReg = precision_score(y_test, y_pred) * 100\n",
    "f1sLogReg = f1_score(y_test, y_pred) * 100\n",
    "print('Accuracy:', accLogReg)\n",
    "print('Recall:', recLogReg)\n",
    "print('Precision:', preLogReg)\n",
    "print('F score:', f1sLogReg)\n",
    "\n",
    "algos.append(\"Support Vector Machine\")\n",
    "accuracy.append(accLogReg)\n",
    "recall.append(recLogReg)\n",
    "precision.append(preLogReg)\n",
    "f1Score.append(f1sLogReg)"
   ]
  },
  {
   "cell_type": "markdown",
   "metadata": {},
   "source": [
    "## **B) Apply Gradient Boost algorithm and find out the accuarcy in predicting whether the salary status is less than or equal to 5000 or it is greater than 50000.**\n",
    "\n",
    "I) **Confusion Matrix  \n",
    "ii)Accuracy score  \n",
    "iii)recall, precision, f- score**"
   ]
  },
  {
   "cell_type": "code",
   "execution_count": 15,
   "metadata": {},
   "outputs": [
    {
     "name": "stdout",
     "output_type": "stream",
     "text": [
      "Gradient Boost Algorithm\n",
      "[[ 827  729]\n",
      " [ 328 4512]] \n",
      "\n",
      "\n",
      "Accuracy: 83.47404627892433\n",
      "Recall: 93.22314049586777\n",
      "Precision: 86.090440755581\n",
      "F score: 89.51492907449659\n"
     ]
    }
   ],
   "source": [
    "GBRegressor = GradientBoostingClassifier()\n",
    "GBRegressor.fit(x_train, y_train)\n",
    "y_pred = GBRegressor.predict(x_test)\n",
    "\n",
    "print(\"Gradient Boost Algorithm\")\n",
    "print(confusion_matrix(y_test, y_pred), '\\n\\n')\n",
    "accLogReg = accuracy_score(y_test, y_pred) * 100\n",
    "recLogReg = recall_score(y_test, y_pred) * 100\n",
    "preLogReg = precision_score(y_test, y_pred) * 100\n",
    "f1sLogReg = f1_score(y_test, y_pred) * 100\n",
    "print('Accuracy:', accLogReg)\n",
    "print('Recall:', recLogReg)\n",
    "print('Precision:', preLogReg)\n",
    "print('F score:', f1sLogReg)\n",
    "\n",
    "algos.append(\"Gradient Boost Algorithm\")\n",
    "accuracy.append(accLogReg)\n",
    "recall.append(recLogReg)\n",
    "precision.append(preLogReg)\n",
    "f1Score.append(f1sLogReg)"
   ]
  },
  {
   "cell_type": "markdown",
   "metadata": {},
   "source": [
    "## **C) Apply Gradient Boost algorithm and find out the accuarcy in predicting whether the salary status is less than or equal to 5000 or it is greater than 50000.** \n",
    "\n",
    "I)**Confusion Matrix  \n",
    "ii)Accuracy score  \n",
    "iii)recall, precision, f- score**"
   ]
  },
  {
   "cell_type": "code",
   "execution_count": 16,
   "metadata": {},
   "outputs": [
    {
     "name": "stdout",
     "output_type": "stream",
     "text": [
      "ADBoost Algorithm\n",
      "[[ 841  715]\n",
      " [ 393 4447]] \n",
      "\n",
      "\n",
      "Accuracy: 82.67667292057536\n",
      "Recall: 91.8801652892562\n",
      "Precision: 86.14877954281286\n",
      "F score: 88.92221555688862\n"
     ]
    }
   ],
   "source": [
    "ADABooster = AdaBoostClassifier()\n",
    "ADABooster.fit(x_train, y_train)\n",
    "y_pred = ADABooster.predict(x_test)\n",
    "\n",
    "print(\"ADBoost Algorithm\")\n",
    "print(confusion_matrix(y_test, y_pred), '\\n\\n')\n",
    "accLogReg = accuracy_score(y_test, y_pred) * 100\n",
    "recLogReg = recall_score(y_test, y_pred) * 100\n",
    "preLogReg = precision_score(y_test, y_pred) * 100\n",
    "f1sLogReg = f1_score(y_test, y_pred) * 100\n",
    "print('Accuracy:', accLogReg)\n",
    "print('Recall:', recLogReg)\n",
    "print('Precision:', preLogReg)\n",
    "print('F score:', f1sLogReg)\n",
    "\n",
    "algos.append(\"AdaBoost Algorithm\")\n",
    "accuracy.append(accLogReg)\n",
    "recall.append(recLogReg)\n",
    "precision.append(preLogReg)\n",
    "f1Score.append(f1sLogReg)"
   ]
  },
  {
   "cell_type": "code",
   "execution_count": 17,
   "metadata": {},
   "outputs": [
    {
     "data": {
      "text/html": [
       "<div>\n",
       "<style scoped>\n",
       "    .dataframe tbody tr th:only-of-type {\n",
       "        vertical-align: middle;\n",
       "    }\n",
       "\n",
       "    .dataframe tbody tr th {\n",
       "        vertical-align: top;\n",
       "    }\n",
       "\n",
       "    .dataframe thead th {\n",
       "        text-align: right;\n",
       "    }\n",
       "</style>\n",
       "<table border=\"1\" class=\"dataframe\">\n",
       "  <thead>\n",
       "    <tr style=\"text-align: right;\">\n",
       "      <th></th>\n",
       "      <th>Algorithms</th>\n",
       "      <th>Accuracy</th>\n",
       "      <th>Recall</th>\n",
       "      <th>Precision</th>\n",
       "      <th>F1 Score</th>\n",
       "    </tr>\n",
       "  </thead>\n",
       "  <tbody>\n",
       "    <tr>\n",
       "      <th>0</th>\n",
       "      <td>Support Vector Machine</td>\n",
       "      <td>75.672295</td>\n",
       "      <td>100.000000</td>\n",
       "      <td>75.672295</td>\n",
       "      <td>86.151655</td>\n",
       "    </tr>\n",
       "    <tr>\n",
       "      <th>1</th>\n",
       "      <td>Gradient Boost Algorithm</td>\n",
       "      <td>83.474046</td>\n",
       "      <td>93.223140</td>\n",
       "      <td>86.090441</td>\n",
       "      <td>89.514929</td>\n",
       "    </tr>\n",
       "    <tr>\n",
       "      <th>2</th>\n",
       "      <td>AdaBoost Algorithm</td>\n",
       "      <td>82.676673</td>\n",
       "      <td>91.880165</td>\n",
       "      <td>86.148780</td>\n",
       "      <td>88.922216</td>\n",
       "    </tr>\n",
       "  </tbody>\n",
       "</table>\n",
       "</div>"
      ],
      "text/plain": [
       "                 Algorithms   Accuracy      Recall  Precision   F1 Score\n",
       "0    Support Vector Machine  75.672295  100.000000  75.672295  86.151655\n",
       "1  Gradient Boost Algorithm  83.474046   93.223140  86.090441  89.514929\n",
       "2        AdaBoost Algorithm  82.676673   91.880165  86.148780  88.922216"
      ]
     },
     "execution_count": 17,
     "metadata": {},
     "output_type": "execute_result"
    }
   ],
   "source": [
    "algoTable = pd.DataFrame(list(zip(algos, accuracy, recall, precision, f1Score)), columns=[\"Algorithms\", \"Accuracy\", \"Recall\", \"Precision\", \"F1 Score\"])\n",
    "algoTable"
   ]
  },
  {
   "cell_type": "code",
   "execution_count": 18,
   "metadata": {},
   "outputs": [
    {
     "data": {
      "image/png": "[encoded data removed]",
      "text/plain": [
       "<Figure size 720x360 with 1 Axes>"
      ]
     },
     "metadata": {
      "needs_background": "light"
     },
     "output_type": "display_data"
    }
   ],
   "source": [
    "plt.figure(figsize=(10, 5))\n",
    "plt.bar(algos, accuracy)\n",
    "plt.title(\"Accuracy\")\n",
    "plt.show()"
   ]
  },
  {
   "cell_type": "code",
   "execution_count": null,
   "metadata": {},
   "outputs": [],
   "source": []
  }
 ],
 "metadata": {
  "interpreter": {
   "hash": "f39da63ca604934c5cb52c331f0ad09f17c090ea1456bf257a16880cfbf28cb5"
  },
  "kernelspec": {
   "display_name": "Python 3.10.2 ('venv': venv)",
   "language": "python",
   "name": "python3"
  },
  "language_info": {
   "codemirror_mode": {
    "name": "ipython",
    "version": 3
   },
   "file_extension": ".py",
   "mimetype": "text/x-python",
   "name": "python",
   "nbconvert_exporter": "python",
   "pygments_lexer": "ipython3",
   "version": "3.10.2"
  },
  "orig_nbformat": 4
 },
 "nbformat": 4,
 "nbformat_minor": 2
}

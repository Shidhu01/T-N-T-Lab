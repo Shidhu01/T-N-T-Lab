{
 "cells": [
  {
   "cell_type": "markdown",
   "metadata": {},
   "source": [
    "# **T&T LAB ASSIGNMENT 9**  \n",
    "**Name: Shidhu Bhadra  \n",
    "Roll: 1905348  \n",
    "Date: 02/03/2022**"
   ]
  },
  {
   "cell_type": "code",
   "execution_count": 1,
   "metadata": {},
   "outputs": [],
   "source": [
    "import matplotlib.pyplot as plt\n",
    "from sklearn.model_selection import train_test_split\n",
    "from sklearn import preprocessing\n",
    "import seaborn as sns\n",
    "import pandas as pd\n",
    "import numpy as np\n",
    "\n",
    "from sklearn.linear_model import LogisticRegression\n",
    "from sklearn.linear_model import LinearRegression\n",
    "from sklearn.neighbors import KNeighborsClassifier\n",
    "from sklearn.tree import DecisionTreeClassifier\n",
    "from sklearn.naive_bayes import GaussianNB\n",
    "from sklearn.ensemble import RandomForestClassifier\n",
    "\n",
    "from sklearn.metrics import confusion_matrix\n",
    "from sklearn.metrics import accuracy_score\n",
    "from sklearn.metrics import recall_score\n",
    "from sklearn.metrics import precision_score\n",
    "from sklearn.metrics import f1_score\n",
    "\n",
    "import warnings\n",
    "warnings.filterwarnings('ignore')"
   ]
  },
  {
   "cell_type": "code",
   "execution_count": 2,
   "metadata": {},
   "outputs": [],
   "source": [
    "df_main = pd.read_csv(\"income.csv\")"
   ]
  },
  {
   "cell_type": "code",
   "execution_count": 3,
   "metadata": {},
   "outputs": [
    {
     "data": {
      "text/html": [
       "<div>\n",
       "<style scoped>\n",
       "    .dataframe tbody tr th:only-of-type {\n",
       "        vertical-align: middle;\n",
       "    }\n",
       "\n",
       "    .dataframe tbody tr th {\n",
       "        vertical-align: top;\n",
       "    }\n",
       "\n",
       "    .dataframe thead th {\n",
       "        text-align: right;\n",
       "    }\n",
       "</style>\n",
       "<table border=\"1\" class=\"dataframe\">\n",
       "  <thead>\n",
       "    <tr style=\"text-align: right;\">\n",
       "      <th></th>\n",
       "      <th>age</th>\n",
       "      <th>JobType</th>\n",
       "      <th>EdType</th>\n",
       "      <th>maritalstatus</th>\n",
       "      <th>occupation</th>\n",
       "      <th>relationship</th>\n",
       "      <th>race</th>\n",
       "      <th>gender</th>\n",
       "      <th>capitalgain</th>\n",
       "      <th>capitalloss</th>\n",
       "      <th>hoursperweek</th>\n",
       "      <th>nativecountry</th>\n",
       "      <th>SalStat</th>\n",
       "    </tr>\n",
       "  </thead>\n",
       "  <tbody>\n",
       "    <tr>\n",
       "      <th>0</th>\n",
       "      <td>45</td>\n",
       "      <td>Private</td>\n",
       "      <td>HS-grad</td>\n",
       "      <td>Divorced</td>\n",
       "      <td>Adm-clerical</td>\n",
       "      <td>Not-in-family</td>\n",
       "      <td>White</td>\n",
       "      <td>Female</td>\n",
       "      <td>0</td>\n",
       "      <td>0</td>\n",
       "      <td>28</td>\n",
       "      <td>United-States</td>\n",
       "      <td>less than or equal to 50,000</td>\n",
       "    </tr>\n",
       "    <tr>\n",
       "      <th>1</th>\n",
       "      <td>24</td>\n",
       "      <td>Federal-gov</td>\n",
       "      <td>HS-grad</td>\n",
       "      <td>Never-married</td>\n",
       "      <td>Armed-Forces</td>\n",
       "      <td>Own-child</td>\n",
       "      <td>White</td>\n",
       "      <td>Male</td>\n",
       "      <td>0</td>\n",
       "      <td>0</td>\n",
       "      <td>40</td>\n",
       "      <td>United-States</td>\n",
       "      <td>less than or equal to 50,000</td>\n",
       "    </tr>\n",
       "    <tr>\n",
       "      <th>2</th>\n",
       "      <td>44</td>\n",
       "      <td>Private</td>\n",
       "      <td>Some-college</td>\n",
       "      <td>Married-civ-spouse</td>\n",
       "      <td>Prof-specialty</td>\n",
       "      <td>Husband</td>\n",
       "      <td>White</td>\n",
       "      <td>Male</td>\n",
       "      <td>0</td>\n",
       "      <td>0</td>\n",
       "      <td>40</td>\n",
       "      <td>United-States</td>\n",
       "      <td>greater than 50,000</td>\n",
       "    </tr>\n",
       "    <tr>\n",
       "      <th>3</th>\n",
       "      <td>27</td>\n",
       "      <td>Private</td>\n",
       "      <td>9th</td>\n",
       "      <td>Never-married</td>\n",
       "      <td>Craft-repair</td>\n",
       "      <td>Other-relative</td>\n",
       "      <td>White</td>\n",
       "      <td>Male</td>\n",
       "      <td>0</td>\n",
       "      <td>0</td>\n",
       "      <td>40</td>\n",
       "      <td>Mexico</td>\n",
       "      <td>less than or equal to 50,000</td>\n",
       "    </tr>\n",
       "    <tr>\n",
       "      <th>4</th>\n",
       "      <td>20</td>\n",
       "      <td>Private</td>\n",
       "      <td>Some-college</td>\n",
       "      <td>Never-married</td>\n",
       "      <td>Sales</td>\n",
       "      <td>Not-in-family</td>\n",
       "      <td>White</td>\n",
       "      <td>Male</td>\n",
       "      <td>0</td>\n",
       "      <td>0</td>\n",
       "      <td>35</td>\n",
       "      <td>United-States</td>\n",
       "      <td>less than or equal to 50,000</td>\n",
       "    </tr>\n",
       "  </tbody>\n",
       "</table>\n",
       "</div>"
      ],
      "text/plain": [
       "   age      JobType        EdType       maritalstatus      occupation  \\\n",
       "0   45      Private       HS-grad            Divorced    Adm-clerical   \n",
       "1   24  Federal-gov       HS-grad       Never-married    Armed-Forces   \n",
       "2   44      Private  Some-college  Married-civ-spouse  Prof-specialty   \n",
       "3   27      Private           9th       Never-married    Craft-repair   \n",
       "4   20      Private  Some-college       Never-married           Sales   \n",
       "\n",
       "     relationship   race  gender  capitalgain  capitalloss  hoursperweek  \\\n",
       "0   Not-in-family  White  Female            0            0            28   \n",
       "1       Own-child  White    Male            0            0            40   \n",
       "2         Husband  White    Male            0            0            40   \n",
       "3  Other-relative  White    Male            0            0            40   \n",
       "4   Not-in-family  White    Male            0            0            35   \n",
       "\n",
       "   nativecountry                        SalStat  \n",
       "0  United-States   less than or equal to 50,000  \n",
       "1  United-States   less than or equal to 50,000  \n",
       "2  United-States            greater than 50,000  \n",
       "3         Mexico   less than or equal to 50,000  \n",
       "4  United-States   less than or equal to 50,000  "
      ]
     },
     "execution_count": 3,
     "metadata": {},
     "output_type": "execute_result"
    }
   ],
   "source": [
    "df_main.head()"
   ]
  },
  {
   "cell_type": "code",
   "execution_count": 4,
   "metadata": {},
   "outputs": [],
   "source": [
    "df = df_main.copy()"
   ]
  },
  {
   "cell_type": "code",
   "execution_count": 5,
   "metadata": {},
   "outputs": [
    {
     "data": {
      "text/plain": [
       "age              0.0\n",
       "JobType          0.0\n",
       "EdType           0.0\n",
       "maritalstatus    0.0\n",
       "occupation       0.0\n",
       "relationship     0.0\n",
       "race             0.0\n",
       "gender           0.0\n",
       "capitalgain      0.0\n",
       "capitalloss      0.0\n",
       "hoursperweek     0.0\n",
       "nativecountry    0.0\n",
       "SalStat          0.0\n",
       "dtype: float64"
      ]
     },
     "execution_count": 5,
     "metadata": {},
     "output_type": "execute_result"
    }
   ],
   "source": [
    "df.isnull().mean().round(5).mul(100).sort_values(ascending=False)"
   ]
  },
  {
   "cell_type": "code",
   "execution_count": 6,
   "metadata": {},
   "outputs": [],
   "source": [
    "df.drop(columns=['relationship','capitalgain', 'capitalloss'], inplace=True)"
   ]
  },
  {
   "cell_type": "code",
   "execution_count": 7,
   "metadata": {},
   "outputs": [
    {
     "data": {
      "text/html": [
       "<div>\n",
       "<style scoped>\n",
       "    .dataframe tbody tr th:only-of-type {\n",
       "        vertical-align: middle;\n",
       "    }\n",
       "\n",
       "    .dataframe tbody tr th {\n",
       "        vertical-align: top;\n",
       "    }\n",
       "\n",
       "    .dataframe thead th {\n",
       "        text-align: right;\n",
       "    }\n",
       "</style>\n",
       "<table border=\"1\" class=\"dataframe\">\n",
       "  <thead>\n",
       "    <tr style=\"text-align: right;\">\n",
       "      <th></th>\n",
       "      <th>age</th>\n",
       "      <th>JobType</th>\n",
       "      <th>EdType</th>\n",
       "      <th>maritalstatus</th>\n",
       "      <th>occupation</th>\n",
       "      <th>race</th>\n",
       "      <th>gender</th>\n",
       "      <th>hoursperweek</th>\n",
       "      <th>nativecountry</th>\n",
       "      <th>SalStat</th>\n",
       "    </tr>\n",
       "  </thead>\n",
       "  <tbody>\n",
       "    <tr>\n",
       "      <th>0</th>\n",
       "      <td>45</td>\n",
       "      <td>Private</td>\n",
       "      <td>HS-grad</td>\n",
       "      <td>Divorced</td>\n",
       "      <td>Adm-clerical</td>\n",
       "      <td>White</td>\n",
       "      <td>Female</td>\n",
       "      <td>28</td>\n",
       "      <td>United-States</td>\n",
       "      <td>less than or equal to 50,000</td>\n",
       "    </tr>\n",
       "    <tr>\n",
       "      <th>1</th>\n",
       "      <td>24</td>\n",
       "      <td>Federal-gov</td>\n",
       "      <td>HS-grad</td>\n",
       "      <td>Never-married</td>\n",
       "      <td>Armed-Forces</td>\n",
       "      <td>White</td>\n",
       "      <td>Male</td>\n",
       "      <td>40</td>\n",
       "      <td>United-States</td>\n",
       "      <td>less than or equal to 50,000</td>\n",
       "    </tr>\n",
       "    <tr>\n",
       "      <th>2</th>\n",
       "      <td>44</td>\n",
       "      <td>Private</td>\n",
       "      <td>Some-college</td>\n",
       "      <td>Married-civ-spouse</td>\n",
       "      <td>Prof-specialty</td>\n",
       "      <td>White</td>\n",
       "      <td>Male</td>\n",
       "      <td>40</td>\n",
       "      <td>United-States</td>\n",
       "      <td>greater than 50,000</td>\n",
       "    </tr>\n",
       "    <tr>\n",
       "      <th>3</th>\n",
       "      <td>27</td>\n",
       "      <td>Private</td>\n",
       "      <td>9th</td>\n",
       "      <td>Never-married</td>\n",
       "      <td>Craft-repair</td>\n",
       "      <td>White</td>\n",
       "      <td>Male</td>\n",
       "      <td>40</td>\n",
       "      <td>Mexico</td>\n",
       "      <td>less than or equal to 50,000</td>\n",
       "    </tr>\n",
       "    <tr>\n",
       "      <th>4</th>\n",
       "      <td>20</td>\n",
       "      <td>Private</td>\n",
       "      <td>Some-college</td>\n",
       "      <td>Never-married</td>\n",
       "      <td>Sales</td>\n",
       "      <td>White</td>\n",
       "      <td>Male</td>\n",
       "      <td>35</td>\n",
       "      <td>United-States</td>\n",
       "      <td>less than or equal to 50,000</td>\n",
       "    </tr>\n",
       "  </tbody>\n",
       "</table>\n",
       "</div>"
      ],
      "text/plain": [
       "   age      JobType        EdType       maritalstatus      occupation   race  \\\n",
       "0   45      Private       HS-grad            Divorced    Adm-clerical  White   \n",
       "1   24  Federal-gov       HS-grad       Never-married    Armed-Forces  White   \n",
       "2   44      Private  Some-college  Married-civ-spouse  Prof-specialty  White   \n",
       "3   27      Private           9th       Never-married    Craft-repair  White   \n",
       "4   20      Private  Some-college       Never-married           Sales  White   \n",
       "\n",
       "   gender  hoursperweek  nativecountry                        SalStat  \n",
       "0  Female            28  United-States   less than or equal to 50,000  \n",
       "1    Male            40  United-States   less than or equal to 50,000  \n",
       "2    Male            40  United-States            greater than 50,000  \n",
       "3    Male            40         Mexico   less than or equal to 50,000  \n",
       "4    Male            35  United-States   less than or equal to 50,000  "
      ]
     },
     "execution_count": 7,
     "metadata": {},
     "output_type": "execute_result"
    }
   ],
   "source": [
    "df.head()"
   ]
  },
  {
   "cell_type": "code",
   "execution_count": 8,
   "metadata": {},
   "outputs": [],
   "source": [
    "cols = ['JobType', 'EdType', 'maritalstatus', 'occupation', 'race', \n",
    "        'gender', 'nativecountry', 'SalStat']\n",
    "\n",
    "for col in cols:\n",
    "    le = preprocessing.LabelEncoder()\n",
    "    df[col] = le.fit_transform(df[col])"
   ]
  },
  {
   "cell_type": "code",
   "execution_count": 9,
   "metadata": {},
   "outputs": [
    {
     "data": {
      "text/html": [
       "<div>\n",
       "<style scoped>\n",
       "    .dataframe tbody tr th:only-of-type {\n",
       "        vertical-align: middle;\n",
       "    }\n",
       "\n",
       "    .dataframe tbody tr th {\n",
       "        vertical-align: top;\n",
       "    }\n",
       "\n",
       "    .dataframe thead th {\n",
       "        text-align: right;\n",
       "    }\n",
       "</style>\n",
       "<table border=\"1\" class=\"dataframe\">\n",
       "  <thead>\n",
       "    <tr style=\"text-align: right;\">\n",
       "      <th></th>\n",
       "      <th>age</th>\n",
       "      <th>JobType</th>\n",
       "      <th>EdType</th>\n",
       "      <th>maritalstatus</th>\n",
       "      <th>occupation</th>\n",
       "      <th>race</th>\n",
       "      <th>gender</th>\n",
       "      <th>hoursperweek</th>\n",
       "      <th>nativecountry</th>\n",
       "      <th>SalStat</th>\n",
       "    </tr>\n",
       "  </thead>\n",
       "  <tbody>\n",
       "    <tr>\n",
       "      <th>0</th>\n",
       "      <td>45</td>\n",
       "      <td>4</td>\n",
       "      <td>11</td>\n",
       "      <td>0</td>\n",
       "      <td>1</td>\n",
       "      <td>4</td>\n",
       "      <td>0</td>\n",
       "      <td>28</td>\n",
       "      <td>38</td>\n",
       "      <td>1</td>\n",
       "    </tr>\n",
       "    <tr>\n",
       "      <th>1</th>\n",
       "      <td>24</td>\n",
       "      <td>1</td>\n",
       "      <td>11</td>\n",
       "      <td>4</td>\n",
       "      <td>2</td>\n",
       "      <td>4</td>\n",
       "      <td>1</td>\n",
       "      <td>40</td>\n",
       "      <td>38</td>\n",
       "      <td>1</td>\n",
       "    </tr>\n",
       "    <tr>\n",
       "      <th>2</th>\n",
       "      <td>44</td>\n",
       "      <td>4</td>\n",
       "      <td>15</td>\n",
       "      <td>2</td>\n",
       "      <td>10</td>\n",
       "      <td>4</td>\n",
       "      <td>1</td>\n",
       "      <td>40</td>\n",
       "      <td>38</td>\n",
       "      <td>0</td>\n",
       "    </tr>\n",
       "    <tr>\n",
       "      <th>3</th>\n",
       "      <td>27</td>\n",
       "      <td>4</td>\n",
       "      <td>6</td>\n",
       "      <td>4</td>\n",
       "      <td>3</td>\n",
       "      <td>4</td>\n",
       "      <td>1</td>\n",
       "      <td>40</td>\n",
       "      <td>25</td>\n",
       "      <td>1</td>\n",
       "    </tr>\n",
       "    <tr>\n",
       "      <th>4</th>\n",
       "      <td>20</td>\n",
       "      <td>4</td>\n",
       "      <td>15</td>\n",
       "      <td>4</td>\n",
       "      <td>12</td>\n",
       "      <td>4</td>\n",
       "      <td>1</td>\n",
       "      <td>35</td>\n",
       "      <td>38</td>\n",
       "      <td>1</td>\n",
       "    </tr>\n",
       "  </tbody>\n",
       "</table>\n",
       "</div>"
      ],
      "text/plain": [
       "   age  JobType  EdType  maritalstatus  occupation  race  gender  \\\n",
       "0   45        4      11              0           1     4       0   \n",
       "1   24        1      11              4           2     4       1   \n",
       "2   44        4      15              2          10     4       1   \n",
       "3   27        4       6              4           3     4       1   \n",
       "4   20        4      15              4          12     4       1   \n",
       "\n",
       "   hoursperweek  nativecountry  SalStat  \n",
       "0            28             38        1  \n",
       "1            40             38        1  \n",
       "2            40             38        0  \n",
       "3            40             25        1  \n",
       "4            35             38        1  "
      ]
     },
     "execution_count": 9,
     "metadata": {},
     "output_type": "execute_result"
    }
   ],
   "source": [
    "df.head()"
   ]
  },
  {
   "cell_type": "code",
   "execution_count": 10,
   "metadata": {},
   "outputs": [
    {
     "data": {
      "text/plain": [
       "1    24283\n",
       "0     7695\n",
       "Name: SalStat, dtype: int64"
      ]
     },
     "execution_count": 10,
     "metadata": {},
     "output_type": "execute_result"
    }
   ],
   "source": [
    "df.SalStat.value_counts()"
   ]
  },
  {
   "cell_type": "code",
   "execution_count": 11,
   "metadata": {},
   "outputs": [
    {
     "data": {
      "text/plain": [
       "((25582, 9), (25582,), (6396, 9), (6396,))"
      ]
     },
     "execution_count": 11,
     "metadata": {},
     "output_type": "execute_result"
    }
   ],
   "source": [
    "x_train, x_test, y_train, y_test = train_test_split(df.drop(columns = ['SalStat']), df['SalStat'], train_size = 0.8)\n",
    "x_train.shape, y_train.shape, x_test.shape, y_test.shape"
   ]
  },
  {
   "cell_type": "code",
   "execution_count": 25,
   "metadata": {},
   "outputs": [
    {
     "data": {
      "text/plain": [
       "<AxesSubplot:title={'center':'Pearson Correlation of Features'}>"
      ]
     },
     "execution_count": 25,
     "metadata": {},
     "output_type": "execute_result"
    },
    {
     "data": {
      "image/png": "[encoded data removed]",
      "text/plain": [
       "<Figure size 1008x864 with 2 Axes>"
      ]
     },
     "metadata": {
      "needs_background": "light"
     },
     "output_type": "display_data"
    }
   ],
   "source": [
    "colormap = plt.figure(figsize=(14,12))\n",
    "plt.title('Pearson Correlation of Features', y=1.05, size=20)\n",
    "sns.heatmap(x_train.merge(y_train , on = x_train.index ).corr(),linewidths=0.1,vmax=1.0, \n",
    "         square=True, cmap='gist_rainbow_r', linecolor='white', annot=True)\n"
   ]
  },
  {
   "cell_type": "code",
   "execution_count": 13,
   "metadata": {},
   "outputs": [],
   "source": [
    "algorithm = []\n",
    "accuracy = []\n",
    "recall = []\n",
    "precision = []\n",
    "f1Score = []"
   ]
  },
  {
   "cell_type": "markdown",
   "metadata": {},
   "source": [
    "# **Q1) Using following machine learning algorithm**\n",
    "1. Logistic Regression\n",
    "2. k-NN\n",
    "3. Decision Tree\n",
    "4. Random Forest\n",
    "5. Naive Bayes"
   ]
  },
  {
   "cell_type": "markdown",
   "metadata": {},
   "source": [
    "## **1. Logistic Regression**"
   ]
  },
  {
   "cell_type": "code",
   "execution_count": 14,
   "metadata": {},
   "outputs": [
    {
     "name": "stdout",
     "output_type": "stream",
     "text": [
      "Logistic Regression\n",
      "Accuracy: 75.25015634771732\n",
      "Recall: 93.96498455200823\n",
      "Precision: 77.95625427204375\n",
      "F score: 85.21527972354534\n"
     ]
    }
   ],
   "source": [
    "LogReg = LogisticRegression()\n",
    "LogReg.fit(x_train, y_train)\n",
    "y_pred = LogReg.predict(x_test)\n",
    "\n",
    "print(\"Logistic Regression\")\n",
    "accLogReg = accuracy_score(y_test, y_pred) * 100\n",
    "recLogReg = recall_score(y_test, y_pred) * 100\n",
    "preLogReg = precision_score(y_test, y_pred) * 100\n",
    "f1sLogReg = f1_score(y_test, y_pred) * 100\n",
    "print('Accuracy:', accLogReg)\n",
    "print('Recall:', recLogReg)\n",
    "print('Precision:', preLogReg)\n",
    "print('F score:', f1sLogReg)\n",
    "\n",
    "algorithm.append(\"Logistic Regression\")\n",
    "accuracy.append(accLogReg)\n",
    "recall.append(recLogReg)\n",
    "precision.append(preLogReg)\n",
    "f1Score.append(f1sLogReg)\n"
   ]
  },
  {
   "cell_type": "markdown",
   "metadata": {},
   "source": [
    "## **2. k-NN**"
   ]
  },
  {
   "cell_type": "code",
   "execution_count": 15,
   "metadata": {},
   "outputs": [
    {
     "name": "stdout",
     "output_type": "stream",
     "text": [
      "K Nearest Neighbour\n",
      "Accuracy: 78.78361475922452\n",
      "Recall: 87.0648815653965\n",
      "Precision: 85.29055690072639\n",
      "F score: 86.16858628070533\n"
     ]
    }
   ],
   "source": [
    "KNN = KNeighborsClassifier()\n",
    "KNN.fit(x_train, y_train)\n",
    "y_pred = KNN.predict(x_test)\n",
    "\n",
    "print(\"K Nearest Neighbour\")\n",
    "accKNN = accuracy_score(y_test, y_pred) * 100\n",
    "recKNN = recall_score(y_test, y_pred) * 100\n",
    "preKNN = precision_score(y_test, y_pred) * 100\n",
    "f1sKNN = f1_score(y_test, y_pred) * 100\n",
    "print('Accuracy:', accKNN)\n",
    "print('Recall:', recKNN)\n",
    "print('Precision:', preKNN)\n",
    "print('F score:', f1sKNN)\n",
    "\n",
    "algorithm.append(\"K Nearest Neighbour\")\n",
    "accuracy.append(accKNN)\n",
    "recall.append(recKNN)\n",
    "precision.append(preKNN)\n",
    "f1Score.append(f1sKNN)"
   ]
  },
  {
   "cell_type": "markdown",
   "metadata": {},
   "source": [
    "## **3. Decision Tree**"
   ]
  },
  {
   "cell_type": "code",
   "execution_count": 16,
   "metadata": {},
   "outputs": [
    {
     "name": "stdout",
     "output_type": "stream",
     "text": [
      "Decision Tree\n",
      "Accuracy: 78.15822388993121\n",
      "Recall: 84.73738414006179\n",
      "Precision: 86.24737945492662\n",
      "F score: 85.48571428571427\n"
     ]
    }
   ],
   "source": [
    "DecTreeReg = DecisionTreeClassifier()\n",
    "DecTreeReg.fit(x_train, y_train)\n",
    "y_pred = DecTreeReg.predict(x_test)\n",
    "print(\"Decision Tree\")\n",
    "accDecTreeReg = accuracy_score(y_test, y_pred) * 100\n",
    "recDecTreeReg = recall_score(y_test, y_pred) * 100\n",
    "preDecTreeReg = precision_score(y_test, y_pred) * 100\n",
    "f1sDecTreeReg = f1_score(y_test, y_pred) * 100\n",
    "print('Accuracy:', accDecTreeReg)\n",
    "print('Recall:', recDecTreeReg)\n",
    "print('Precision:', preDecTreeReg)\n",
    "print('F score:', f1sDecTreeReg)\n",
    "\n",
    "algorithm.append(\"Decision Tree\")\n",
    "accuracy.append(accDecTreeReg)\n",
    "recall.append(recDecTreeReg)\n",
    "precision.append(preDecTreeReg)\n",
    "f1Score.append(f1sDecTreeReg)"
   ]
  },
  {
   "cell_type": "markdown",
   "metadata": {},
   "source": [
    "## **4. Random Forest** "
   ]
  },
  {
   "cell_type": "code",
   "execution_count": 17,
   "metadata": {},
   "outputs": [
    {
     "name": "stdout",
     "output_type": "stream",
     "text": [
      "Random Forest\n",
      "Accuracy: 81.95747342088805\n",
      "Recall: 90.25746652935118\n",
      "Precision: 86.5494765949042\n",
      "F score: 88.36458963500706\n"
     ]
    }
   ],
   "source": [
    "RF = RandomForestClassifier()\n",
    "RF.fit(x_train, y_train)\n",
    "y_pred = RF.predict(x_test)\n",
    "print(\"Random Forest\")\n",
    "accRF = accuracy_score(y_test, y_pred) * 100\n",
    "recRF = recall_score(y_test, y_pred) * 100\n",
    "preRF = precision_score(y_test, y_pred) * 100\n",
    "f1sRF = f1_score(y_test, y_pred) * 100\n",
    "print('Accuracy:', accRF)\n",
    "print('Recall:', recRF)\n",
    "print('Precision:', preRF)\n",
    "print('F score:', f1sRF)\n",
    "\n",
    "algorithm.append(\"Random Forest\")\n",
    "accuracy.append(accRF)\n",
    "recall.append(recRF)\n",
    "precision.append(preRF)\n",
    "f1Score.append(f1sRF)"
   ]
  },
  {
   "cell_type": "markdown",
   "metadata": {},
   "source": [
    "## **5. Naive Bayes**"
   ]
  },
  {
   "cell_type": "code",
   "execution_count": 18,
   "metadata": {},
   "outputs": [
    {
     "name": "stdout",
     "output_type": "stream",
     "text": [
      "Naive Bayes\n",
      "Accuracy: 77.56410256410257\n",
      "Recall: 81.77136972193615\n",
      "Precision: 87.83185840707965\n",
      "F score: 84.69333333333331\n"
     ]
    }
   ],
   "source": [
    "NB = GaussianNB()\n",
    "NB.fit(x_train, y_train)\n",
    "y_pred = NB.predict(x_test)\n",
    "print(\"Naive Bayes\")\n",
    "accNB = accuracy_score(y_test, y_pred) * 100\n",
    "recNB = recall_score(y_test, y_pred) * 100\n",
    "preNB = precision_score(y_test, y_pred) * 100\n",
    "f1sNB = f1_score(y_test, y_pred) * 100\n",
    "print('Accuracy:', accNB)\n",
    "print('Recall:', recNB)\n",
    "print('Precision:', preNB)\n",
    "print('F score:', f1sNB)\n",
    "\n",
    "algorithm.append(\"Naive Bayes\")\n",
    "accuracy.append(accNB)\n",
    "recall.append(recNB)\n",
    "precision.append(preNB)\n",
    "f1Score.append(f1sNB)"
   ]
  },
  {
   "cell_type": "markdown",
   "metadata": {},
   "source": [
    "# **Q2) Construct a table and compare all the algorithms’ result. Plot a bar for accuracy of each algorithm.**  \n",
    "  \n",
    "|   |   Accuracy   |    Recall    |   Precision   |   F1 Score   |\n",
    "|---|---|---|---|---|\n",
    "|   LR   |   |   |   |   |\n",
    "|   kNN   |   |   |   |   |\n",
    "|   DT   |   |   |   |   |\n",
    "|   RF   |   |   |   |   |\n",
    "|   NB   |   |   |   |   |\n",
    "  \n",
    "For the dataset ‘income.csv’: find the following performance metrices:  \n",
    "1. Accuracy  \n",
    "2. Precision  \n",
    "3. F-score  \n",
    "4. Recall/Sensitivity  \n",
    "\n",
    "Confusion matrix  \n",
    "Classification Report\n"
   ]
  },
  {
   "cell_type": "code",
   "execution_count": 19,
   "metadata": {},
   "outputs": [
    {
     "data": {
      "text/html": [
       "<div>\n",
       "<style scoped>\n",
       "    .dataframe tbody tr th:only-of-type {\n",
       "        vertical-align: middle;\n",
       "    }\n",
       "\n",
       "    .dataframe tbody tr th {\n",
       "        vertical-align: top;\n",
       "    }\n",
       "\n",
       "    .dataframe thead th {\n",
       "        text-align: right;\n",
       "    }\n",
       "</style>\n",
       "<table border=\"1\" class=\"dataframe\">\n",
       "  <thead>\n",
       "    <tr style=\"text-align: right;\">\n",
       "      <th></th>\n",
       "      <th>Algorithms</th>\n",
       "      <th>Accuracy</th>\n",
       "      <th>Recall</th>\n",
       "      <th>Precision</th>\n",
       "      <th>F1 Score</th>\n",
       "    </tr>\n",
       "  </thead>\n",
       "  <tbody>\n",
       "    <tr>\n",
       "      <th>0</th>\n",
       "      <td>Logistic Regression</td>\n",
       "      <td>75.250156</td>\n",
       "      <td>93.964985</td>\n",
       "      <td>77.956254</td>\n",
       "      <td>85.215280</td>\n",
       "    </tr>\n",
       "    <tr>\n",
       "      <th>1</th>\n",
       "      <td>K Nearest Neighbour</td>\n",
       "      <td>78.783615</td>\n",
       "      <td>87.064882</td>\n",
       "      <td>85.290557</td>\n",
       "      <td>86.168586</td>\n",
       "    </tr>\n",
       "    <tr>\n",
       "      <th>2</th>\n",
       "      <td>Decision Tree</td>\n",
       "      <td>78.158224</td>\n",
       "      <td>84.737384</td>\n",
       "      <td>86.247379</td>\n",
       "      <td>85.485714</td>\n",
       "    </tr>\n",
       "    <tr>\n",
       "      <th>3</th>\n",
       "      <td>Random Forest</td>\n",
       "      <td>81.957473</td>\n",
       "      <td>90.257467</td>\n",
       "      <td>86.549477</td>\n",
       "      <td>88.364590</td>\n",
       "    </tr>\n",
       "    <tr>\n",
       "      <th>4</th>\n",
       "      <td>Naive Bayes</td>\n",
       "      <td>77.564103</td>\n",
       "      <td>81.771370</td>\n",
       "      <td>87.831858</td>\n",
       "      <td>84.693333</td>\n",
       "    </tr>\n",
       "  </tbody>\n",
       "</table>\n",
       "</div>"
      ],
      "text/plain": [
       "            Algorithms   Accuracy     Recall  Precision   F1 Score\n",
       "0  Logistic Regression  75.250156  93.964985  77.956254  85.215280\n",
       "1  K Nearest Neighbour  78.783615  87.064882  85.290557  86.168586\n",
       "2        Decision Tree  78.158224  84.737384  86.247379  85.485714\n",
       "3        Random Forest  81.957473  90.257467  86.549477  88.364590\n",
       "4          Naive Bayes  77.564103  81.771370  87.831858  84.693333"
      ]
     },
     "execution_count": 19,
     "metadata": {},
     "output_type": "execute_result"
    }
   ],
   "source": [
    "algoTable = pd.DataFrame(list(zip(algorithm, accuracy, recall, precision, f1Score)), columns=[\"Algorithms\", \"Accuracy\", \"Recall\", \"Precision\", \"F1 Score\"])\n",
    "algoTable"
   ]
  },
  {
   "cell_type": "markdown",
   "metadata": {},
   "source": [
    "## **Confusion Matrix for each Model**"
   ]
  },
  {
   "cell_type": "code",
   "execution_count": 20,
   "metadata": {},
   "outputs": [
    {
     "name": "stdout",
     "output_type": "stream",
     "text": [
      "Logistic Regression\n",
      "[[ 991  550]\n",
      " [ 885 3970]] \n",
      "\n",
      "\n",
      "K Nearest Neighbour\n",
      "[[ 991  550]\n",
      " [ 885 3970]] \n",
      "\n",
      "\n",
      "Decision Tree\n",
      "[[ 991  550]\n",
      " [ 885 3970]] \n",
      "\n",
      "\n",
      "Naive Bayes\n",
      "[[ 991  550]\n",
      " [ 885 3970]] \n",
      "\n",
      "\n",
      "Random Forest\n",
      "[[ 991  550]\n",
      " [ 885 3970]] \n",
      "\n",
      "\n"
     ]
    }
   ],
   "source": [
    "print(\"Logistic Regression\")\n",
    "print(confusion_matrix(y_test, y_pred), '\\n\\n')\n",
    "\n",
    "print(\"K Nearest Neighbour\")\n",
    "print(confusion_matrix(y_test, y_pred), '\\n\\n')\n",
    "\n",
    "print(\"Decision Tree\")\n",
    "print(confusion_matrix(y_test, y_pred), '\\n\\n')\n",
    "\n",
    "print(\"Naive Bayes\")\n",
    "print(confusion_matrix(y_test, y_pred), '\\n\\n')\n",
    "\n",
    "print(\"Random Forest\")\n",
    "print(confusion_matrix(y_test, y_pred), '\\n\\n')"
   ]
  },
  {
   "cell_type": "markdown",
   "metadata": {},
   "source": [
    "## **Barplot for accuracy of each algorithm**"
   ]
  },
  {
   "cell_type": "code",
   "execution_count": 21,
   "metadata": {},
   "outputs": [
    {
     "data": {
      "image/png": "[encoded data removed]",
      "text/plain": [
       "<Figure size 720x360 with 1 Axes>"
      ]
     },
     "metadata": {
      "needs_background": "light"
     },
     "output_type": "display_data"
    }
   ],
   "source": [
    "plt.figure(figsize=(10, 5))\n",
    "plt.bar(algorithm, accuracy)\n",
    "plt.title(\"Accuracy\")\n",
    "plt.show()"
   ]
  }
 ],
 "metadata": {
  "interpreter": {
   "hash": "000c65c048589cb28066a46671d5e8ce19b2be42ad28f36d2bd61f7ed9ffaf5b"
  },
  "kernelspec": {
   "display_name": "venv-kernel",
   "language": "python",
   "name": "python3"
  },
  "language_info": {
   "codemirror_mode": {
    "name": "ipython",
    "version": 3
   },
   "file_extension": ".py",
   "mimetype": "text/x-python",
   "name": "python",
   "nbconvert_exporter": "python",
   "pygments_lexer": "ipython3",
   "version": "3.10.2"
  }
 },
 "nbformat": 4,
 "nbformat_minor": 2
}
